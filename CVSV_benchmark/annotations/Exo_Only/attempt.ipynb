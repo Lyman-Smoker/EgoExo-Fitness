{
 "cells": [
  {
   "cell_type": "code",
   "execution_count": 2,
   "metadata": {},
   "outputs": [],
   "source": [
    "import glob\n",
    "import os\n",
    "import random"
   ]
  },
  {
   "cell_type": "code",
   "execution_count": 3,
   "metadata": {},
   "outputs": [],
   "source": [
    "test_video_list  = open('./test.txt', 'r').readlines()\n",
    "train_video_list = open('./train.txt', 'r').readlines()"
   ]
  },
  {
   "cell_type": "code",
   "execution_count": 4,
   "metadata": {},
   "outputs": [
    {
     "name": "stdout",
     "output_type": "stream",
     "text": [
      "\n",
      "957\n",
      "0\n",
      "6149\n",
      "6482\n"
     ]
    }
   ],
   "source": [
    "import random\n",
    "\n",
    "skip_view = ['go_left', 'go_right', 'gopro']\n",
    "f_train = open('./train_pairs.txt', 'w')\n",
    "f_test = open('./test_pairs.txt', 'w')\n",
    "train_pos = 0\n",
    "train_nag = 0\n",
    "test_pos = 0\n",
    "test_nag = 0\n",
    "# f_video_base = open('./video_base.txt', 'r').readlines()\n",
    "# train_video_list = []\n",
    "# test_video_list = []\n",
    "# for instance in f_video_base:\n",
    "#     instance_ = instance.replace('\\n', '')\n",
    "#     frame_path, seq_name, seq_st, seq_ed = instance_.split(' ')\n",
    "#     if seq_name in train_seq_list:\n",
    "#         train_video_list.append(instance_)\n",
    "#     else:\n",
    "#         test_video_list.append(instance_)\n",
    "num_train_video = len(train_video_list)\n",
    "num_test_video  = len(test_video_list)\n",
    "\n",
    "for i in range(num_train_video):\n",
    "    for j in range(i+1, num_train_video):\n",
    "        if i==j:\n",
    "            continue\n",
    "        if train_video_list[i].split(' ')[0].split('/')[-2] in skip_view or train_video_list[j].split(' ')[0].split('/')[-2] in skip_view:\n",
    "            continue\n",
    "        if train_video_list[i].split(' ')[1] == train_video_list[j].split(' ')[1]:\n",
    "            train_pos += 1\n",
    "            f_train.write('{} {}'.format(train_video_list[i].replace('\\n', ''), \n",
    "                                               train_video_list[j].replace('\\n', '')))\n",
    "            f_train.write('\\n')\n",
    "            \n",
    "for i in range(num_test_video):\n",
    "    for j in range(i+1, num_test_video):\n",
    "        if i==j:\n",
    "            continue\n",
    "        if test_video_list[i].split(' ')[1] != test_video_list[j].split(' ')[1]:\n",
    "            samplar = random.randint(0, 100) % 100\n",
    "            if samplar >= 3:            # 只取其中 3% 的负例进行测试\n",
    "                continue\n",
    "        f_test.write('{} {}'.format(test_video_list[i].replace('\\n', ''), \n",
    "                                    test_video_list[j].replace('\\n', '')))\n",
    "        f_test.write('\\n') \n",
    "        if test_video_list[i].split(' ')[1] == test_video_list[j].split(' ')[1]:\n",
    "            test_pos += 1\n",
    "            \n",
    "        else:\n",
    "            test_nag += 1\n",
    "\n",
    "print()\n",
    "# 打印训练和测试的正负样本数量\n",
    "print(train_pos)\n",
    "print(train_nag)\n",
    "print(test_pos)\n",
    "print(test_nag)"
   ]
  },
  {
   "cell_type": "code",
   "execution_count": null,
   "metadata": {},
   "outputs": [],
   "source": []
  }
 ],
 "metadata": {
  "kernelspec": {
   "display_name": "liym_3090",
   "language": "python",
   "name": "python3"
  },
  "language_info": {
   "codemirror_mode": {
    "name": "ipython",
    "version": 3
   },
   "file_extension": ".py",
   "mimetype": "text/x-python",
   "name": "python",
   "nbconvert_exporter": "python",
   "pygments_lexer": "ipython3",
   "version": "3.9.13"
  }
 },
 "nbformat": 4,
 "nbformat_minor": 2
}
